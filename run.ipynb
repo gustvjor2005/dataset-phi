{
 "cells": [
  {
   "cell_type": "code",
   "execution_count": null,
   "metadata": {},
   "outputs": [],
   "source": [
    "from deslant_img import deslant_img\n",
    "from path import Path\n",
    "import cv2\n",
    "import os\n",
    "\n",
    "dir = Path(\"./words/train\")\n",
    "f = open(\"./words/train/gt/words.txt\")\n",
    "for line in f:\n",
    "    line = line.strip()\n",
    "    line_split = line.split(' ') \n",
    "    file_name_split = line_split[0].split('-')  \n",
    "    file_name = dir / \"img\" /  file_name_split[0] / line_split[0] + \".png\"\n",
    "    print(file_name)\n",
    "    img = cv2.imread(file_name, cv2.IMREAD_GRAYSCALE)\n",
    "    dir_2 = Path(\"./words/train2\") / \"img\" /  file_name_split[0]\n",
    "    file_name_out = dir_2 / line_split[0] + \".png\"\n",
    "    if not os.path.exists(dir_2):\n",
    "        os.mkdir(dir_2)\n",
    "        print(\"creando \", dir_2)\n",
    "    else:\n",
    "        print(\"existe\")\n",
    "    res = deslant_img(img)\n",
    "    cv2.imwrite(img=res.img, filename=file_name_out)\n",
    "    #break"
   ]
  },
  {
   "cell_type": "code",
   "execution_count": null,
   "metadata": {},
   "outputs": [],
   "source": [
    "from deslant_img import deslant_img\n",
    "from path import Path\n",
    "import cv2\n",
    "import os\n",
    "\n",
    "dir = Path(\"./words/val\")\n",
    "\n",
    "f = open(\"./words/val/gt/words.txt\")\n",
    "for line in f:\n",
    "    line = line.strip()\n",
    "    line_split = line.split(' ') \n",
    "    file_name_split = line_split[0].split('-')  \n",
    "    file_name = dir / \"img\" /  file_name_split[0] / line_split[0] + \".png\"\n",
    "    print(file_name)\n",
    "    img = cv2.imread(file_name, cv2.IMREAD_GRAYSCALE)\n",
    "    dir_2 = Path(\"./words/val2\") / \"img\" /  file_name_split[0]\n",
    "    file_name_out = dir_2 / line_split[0] + \".png\"\n",
    "    if not os.path.exists(dir_2):\n",
    "        os.mkdir(dir_2)\n",
    "        print(\"creando \", dir_2)\n",
    "    else:\n",
    "        print(\"existe\")\n",
    "    res = deslant_img(img)\n",
    "    cv2.imwrite(img=res.img, filename=file_name_out)\n",
    "    #break\n"
   ]
  }
 ],
 "metadata": {
  "kernelspec": {
   "display_name": ".venv",
   "language": "python",
   "name": "python3"
  },
  "language_info": {
   "codemirror_mode": {
    "name": "ipython",
    "version": 3
   },
   "file_extension": ".py",
   "mimetype": "text/x-python",
   "name": "python",
   "nbconvert_exporter": "python",
   "pygments_lexer": "ipython3",
   "version": "3.10.12"
  }
 },
 "nbformat": 4,
 "nbformat_minor": 2
}
